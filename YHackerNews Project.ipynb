{
 "cells": [
  {
   "cell_type": "markdown",
   "id": "079227e4",
   "metadata": {},
   "source": [
    "## Y Hacker News  \n",
    "#### What posts get most comments on average?\n",
    "\n",
    "&nbsp;\n",
    "* This database contains around 20,000 rows while the original has 300,000\n",
    "* We're specifically interested in posts with titles that begin with either **Ask HN** or **Show HN**\n",
    "* We wil analyze which one gets more commented and at what rate\n",
    "* This project is for learning purposes"
   ]
  },
  {
   "cell_type": "code",
   "execution_count": 1,
   "id": "a4c3f997",
   "metadata": {},
   "outputs": [],
   "source": [
    "from csv import reader\n",
    "import datetime as dt"
   ]
  },
  {
   "cell_type": "code",
   "execution_count": 4,
   "id": "8e897a27",
   "metadata": {},
   "outputs": [
    {
     "data": {
      "text/plain": [
       "[['id', 'title', 'url', 'num_points', 'num_comments', 'author', 'created_at']]"
      ]
     },
     "execution_count": 4,
     "metadata": {},
     "output_type": "execute_result"
    }
   ],
   "source": [
    "o = open('hacker_news.csv')\n",
    "r = reader(o)\n",
    "hn = list(r)\n",
    "header = hn[:1]\n",
    "hn = hn[1:]\n",
    "header"
   ]
  },
  {
   "cell_type": "code",
   "execution_count": 6,
   "id": "291fbd2f",
   "metadata": {},
   "outputs": [
    {
     "data": {
      "text/plain": [
       "[['12224879',\n",
       "  'Interactive Dynamic Video',\n",
       "  'http://www.interactivedynamicvideo.com/',\n",
       "  '386',\n",
       "  '52',\n",
       "  'ne0phyte',\n",
       "  '8/4/2016 11:52'],\n",
       " ['10975351',\n",
       "  'How to Use Open Source and Shut the Fuck Up at the Same Time',\n",
       "  'http://hueniverse.com/2016/01/26/how-to-use-open-source-and-shut-the-fuck-up-at-the-same-time/',\n",
       "  '39',\n",
       "  '10',\n",
       "  'josep2',\n",
       "  '1/26/2016 19:30'],\n",
       " ['11964716',\n",
       "  \"Florida DJs May Face Felony for April Fools' Water Joke\",\n",
       "  'http://www.thewire.com/entertainment/2013/04/florida-djs-april-fools-water-joke/63798/',\n",
       "  '2',\n",
       "  '1',\n",
       "  'vezycash',\n",
       "  '6/23/2016 22:20']]"
      ]
     },
     "execution_count": 6,
     "metadata": {},
     "output_type": "execute_result"
    }
   ],
   "source": [
    "hn[:3]"
   ]
  },
  {
   "cell_type": "markdown",
   "id": "5aa1ede6",
   "metadata": {},
   "source": [
    "### Extracting Ask HN and Show HN Posts\n",
    "\n",
    "* Using the method 'startswith()' to get which posts titles begin with the title we want"
   ]
  },
  {
   "cell_type": "code",
   "execution_count": 10,
   "id": "3acb3aba",
   "metadata": {},
   "outputs": [
    {
     "name": "stdout",
     "output_type": "stream",
     "text": [
      "[['12296411', 'Ask HN: How to improve my personal website?', '', '2', '6', 'ahmedbaracat', '8/16/2016 9:55'], ['10610020', 'Ask HN: Am I the only one outraged by Twitter shutting down share counts?', '', '28', '29', 'tkfx', '11/22/2015 13:43'], ['11610310', 'Ask HN: Aby recent changes to CSS that broke mobile?', '', '1', '1', 'polskibus', '5/2/2016 10:14']]\n"
     ]
    }
   ],
   "source": [
    "ask_posts = []\n",
    "show_posts = []\n",
    "other_posts = []\n",
    "\n",
    "for row in hn:\n",
    "    title = row[1]\n",
    "    if title.lower().startswith('ask hn'):\n",
    "        ask_posts.append(row) #getting the entire list of that post\n",
    "    \n",
    "    elif title.lower().startswith('show hn'):\n",
    "        show_posts.append(row)\n",
    "        \n",
    "    else:\n",
    "        other_posts.append(row)\n",
    "    \n",
    "print(ask_posts[:3])    "
   ]
  },
  {
   "cell_type": "code",
   "execution_count": 11,
   "id": "3efdac8b",
   "metadata": {},
   "outputs": [
    {
     "name": "stdout",
     "output_type": "stream",
     "text": [
      "[['10627194', 'Show HN: Wio Link  ESP8266 Based Web of Things Hardware Development Platform', 'https://iot.seeed.cc', '26', '22', 'kfihihc', '11/25/2015 14:03'], ['10646440', 'Show HN: Something pointless I made', 'http://dn.ht/picklecat/', '747', '102', 'dhotson', '11/29/2015 22:46']]\n"
     ]
    }
   ],
   "source": [
    "print(show_posts[:2])"
   ]
  },
  {
   "cell_type": "markdown",
   "id": "dcc498a7",
   "metadata": {},
   "source": [
    "### Calculating the Average Number of Comments for Ask HN and Show HN Posts"
   ]
  },
  {
   "cell_type": "code",
   "execution_count": 14,
   "id": "3123cb7a",
   "metadata": {},
   "outputs": [
    {
     "name": "stdout",
     "output_type": "stream",
     "text": [
      "14.038417431192661\n"
     ]
    }
   ],
   "source": [
    "total_ask_comments = 0\n",
    "\n",
    "for row in ask_posts:\n",
    "    ask_comments = int(row[4])\n",
    "    total_ask_comments += ask_comments\n",
    "    avg_ask_comments = total_ask_comments / len(ask_posts)\n",
    "    \n",
    "print(avg_ask_comments)"
   ]
  },
  {
   "cell_type": "code",
   "execution_count": 18,
   "id": "3e447d1b",
   "metadata": {},
   "outputs": [
    {
     "data": {
      "text/plain": [
       "10.31669535283993"
      ]
     },
     "execution_count": 18,
     "metadata": {},
     "output_type": "execute_result"
    }
   ],
   "source": [
    "total_show_comments = 0 \n",
    "\n",
    "for row in show_posts:\n",
    "    show_comments = int(row[4])\n",
    "    total_show_comments += show_comments\n",
    "    avg_show_comments = total_show_comments/ len(show_posts)\n",
    "    \n",
    "avg_show_comments"
   ]
  },
  {
   "cell_type": "markdown",
   "id": "c5de7ddc",
   "metadata": {},
   "source": [
    "From the data analysis so far, we notice that **'Ask Hn'**´s post has a bigger average of comments.\n",
    "&nbsp;\n",
    "\n",
    "Knowing that, we will analyze only **'Ask Hn'** comments from now on'."
   ]
  },
  {
   "cell_type": "markdown",
   "id": "2fbe865c",
   "metadata": {},
   "source": [
    "### Finding the Number of Ask Posts and Comments by Hour Created:"
   ]
  },
  {
   "cell_type": "code",
   "execution_count": 29,
   "id": "cc6a5890",
   "metadata": {},
   "outputs": [
    {
     "name": "stdout",
     "output_type": "stream",
     "text": [
      "Counts by hour:{'09': 45, '13': 85, '10': 59, '14': 107, '16': 108, '23': 68, '12': 73, '17': 100, '15': 116, '21': 109, '20': 80, '02': 58, '18': 109, '03': 54, '05': 46, '19': 110, '01': 60, '22': 71, '08': 48, '04': 47, '00': 55, '06': 44, '07': 34, '11': 58}\n",
      "Comments by hour:{'09': 251, '13': 1253, '10': 793, '14': 1416, '16': 1814, '23': 543, '12': 687, '17': 1146, '15': 4477, '21': 1745, '20': 1722, '02': 1381, '18': 1439, '03': 421, '05': 464, '19': 1188, '01': 683, '22': 479, '08': 492, '04': 337, '00': 447, '06': 397, '07': 267, '11': 641}\n"
     ]
    }
   ],
   "source": [
    "result_list = []\n",
    "\n",
    "for row in ask_posts:\n",
    "    created_at = row[6]\n",
    "    n_comments = int(row[4])\n",
    "    result_list.append([created_at, n_comments])\n",
    "    \n",
    "counts_by_hour ={}\n",
    "comments_by_hour = {}\n",
    "date_format = '%m/%d/%Y %H:%M'\n",
    "\n",
    "for row in result_list:\n",
    "    date_string = row[0]\n",
    "    comment = row[1]\n",
    "    hour = dt.datetime.strptime(date_string, date_format).strftime('%H') #only getting the hour 'strftime'\n",
    "    \n",
    "    if hour not in counts_by_hour:\n",
    "        counts_by_hour[hour] = 1\n",
    "        comments_by_hour[hour] = comment\n",
    "    \n",
    "    else:\n",
    "        counts_by_hour[hour] += 1\n",
    "        comments_by_hour[hour] += comment\n",
    "    \n",
    "print('Counts by hour:{}'.format(counts_by_hour))\n",
    "'\\n'\n",
    "print('Comments by hour:{}'.format(comments_by_hour))  "
   ]
  },
  {
   "cell_type": "markdown",
   "id": "bb36a1e3",
   "metadata": {},
   "source": [
    "### Calculating the Average Number of Comments for Ask HN Posts by Hour:"
   ]
  },
  {
   "cell_type": "code",
   "execution_count": 32,
   "id": "da9a8085",
   "metadata": {},
   "outputs": [
    {
     "name": "stdout",
     "output_type": "stream",
     "text": [
      "[['09', 5.5777777777777775], ['13', 14.741176470588234], ['10', 13.440677966101696], ['14', 13.233644859813085], ['16', 16.796296296296298], ['23', 7.985294117647059], ['12', 9.41095890410959], ['17', 11.46], ['15', 38.5948275862069], ['21', 16.009174311926607], ['20', 21.525], ['02', 23.810344827586206], ['18', 13.20183486238532], ['03', 7.796296296296297], ['05', 10.08695652173913], ['19', 10.8], ['01', 11.383333333333333], ['22', 6.746478873239437], ['08', 10.25], ['04', 7.170212765957447], ['00', 8.127272727272727], ['06', 9.022727272727273], ['07', 7.852941176470588], ['11', 11.051724137931034]]\n"
     ]
    }
   ],
   "source": [
    "avg_by_hour = []\n",
    "\n",
    "for c in comments_by_hour:\n",
    "    avg_by_hour.append([c, comments_by_hour[c]/counts_by_hour[c]]) #calculating the average number of comments per post for posts created during each hour of the day.\n",
    "\n",
    "print(avg_by_hour)"
   ]
  },
  {
   "cell_type": "code",
   "execution_count": 34,
   "id": "33638abc",
   "metadata": {},
   "outputs": [
    {
     "name": "stdout",
     "output_type": "stream",
     "text": [
      "['09', 5.5777777777777775]\n",
      "['13', 14.741176470588234]\n",
      "['10', 13.440677966101696]\n",
      "['14', 13.233644859813085]\n",
      "['16', 16.796296296296298]\n",
      "['23', 7.985294117647059]\n",
      "['12', 9.41095890410959]\n",
      "['17', 11.46]\n",
      "['15', 38.5948275862069]\n",
      "['21', 16.009174311926607]\n",
      "['20', 21.525]\n",
      "['02', 23.810344827586206]\n",
      "['18', 13.20183486238532]\n",
      "['03', 7.796296296296297]\n",
      "['05', 10.08695652173913]\n",
      "['19', 10.8]\n",
      "['01', 11.383333333333333]\n",
      "['22', 6.746478873239437]\n",
      "['08', 10.25]\n",
      "['04', 7.170212765957447]\n",
      "['00', 8.127272727272727]\n",
      "['06', 9.022727272727273]\n",
      "['07', 7.852941176470588]\n",
      "['11', 11.051724137931034]\n"
     ]
    }
   ],
   "source": [
    "for row in avg_by_hour:\n",
    "    print(row)"
   ]
  },
  {
   "cell_type": "markdown",
   "id": "c10a5cca",
   "metadata": {},
   "source": [
    "### Sorting and Printing Values from a List of Lists"
   ]
  },
  {
   "cell_type": "code",
   "execution_count": 41,
   "id": "d17abc29",
   "metadata": {},
   "outputs": [
    {
     "name": "stdout",
     "output_type": "stream",
     "text": [
      "[5.5777777777777775, '09']\n",
      "[14.741176470588234, '13']\n",
      "[13.440677966101696, '10']\n",
      "[13.233644859813085, '14']\n",
      "[16.796296296296298, '16']\n",
      "[7.985294117647059, '23']\n",
      "[9.41095890410959, '12']\n",
      "[11.46, '17']\n",
      "[38.5948275862069, '15']\n",
      "[16.009174311926607, '21']\n",
      "[21.525, '20']\n",
      "[23.810344827586206, '02']\n",
      "[13.20183486238532, '18']\n",
      "[7.796296296296297, '03']\n",
      "[10.08695652173913, '05']\n",
      "[10.8, '19']\n",
      "[11.383333333333333, '01']\n",
      "[6.746478873239437, '22']\n",
      "[10.25, '08']\n",
      "[7.170212765957447, '04']\n",
      "[8.127272727272727, '00']\n",
      "[9.022727272727273, '06']\n",
      "[7.852941176470588, '07']\n",
      "[11.051724137931034, '11']\n"
     ]
    }
   ],
   "source": [
    "swap_avg_by_hour = []\n",
    "\n",
    "for row in avg_by_hour:\n",
    "    hour = row[0]\n",
    "    avg = row[1]\n",
    "    swap_avg_by_hour.append([avg, hour])\n",
    "\n",
    "for row in swap_avg_by_hour:\n",
    "    print(row)\n",
    "#Instead of hour coming first, it comes in second"
   ]
  },
  {
   "cell_type": "code",
   "execution_count": 50,
   "id": "ba7b509c",
   "metadata": {},
   "outputs": [
    {
     "name": "stdout",
     "output_type": "stream",
     "text": [
      "Top 5 for Ask Post Comments:\n",
      "15:00: 38.59 average comments per post\n",
      "02:00: 23.81 average comments per post\n",
      "20:00: 21.52 average comments per post\n",
      "16:00: 16.80 average comments per post\n",
      "21:00: 16.01 average comments per post\n"
     ]
    }
   ],
   "source": [
    "#Sorting function in descending order\n",
    "sorted_swap = sorted(swap_avg_by_hour, reverse = True) #sorting by the average number of comments\n",
    "print('Top 5 for Ask Post Comments:')\n",
    "\n",
    "for row in sorted_swap[:5]:\n",
    "    string_hour = row[1]\n",
    "    avg = row[0]\n",
    "    hour = dt.datetime.strptime(string_hour, '%H').strftime('%H:00')\n",
    "    template = \"{h}: {a:.2f} average comments per post\"\n",
    "    output = template.format(h = hour, a = avg)\n",
    "    print(output)\n",
    "    \n",
    "\n"
   ]
  },
  {
   "cell_type": "markdown",
   "id": "45ad134c",
   "metadata": {},
   "source": [
    "## Conclusion:\n",
    "&nbsp;\n",
    "\n",
    "Since the dataset is based on Eastern U.S. Time Zone, which is 1 hour behind Brazil, the best time for a Brazilian to create a post to get most comments would be around 16:00 or 4 pm.\n"
   ]
  }
 ],
 "metadata": {
  "kernelspec": {
   "display_name": "Python 3 (ipykernel)",
   "language": "python",
   "name": "python3"
  },
  "language_info": {
   "codemirror_mode": {
    "name": "ipython",
    "version": 3
   },
   "file_extension": ".py",
   "mimetype": "text/x-python",
   "name": "python",
   "nbconvert_exporter": "python",
   "pygments_lexer": "ipython3",
   "version": "3.9.13"
  }
 },
 "nbformat": 4,
 "nbformat_minor": 5
}
